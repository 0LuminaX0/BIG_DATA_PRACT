{
 "nbformat": 4,
 "nbformat_minor": 0,
 "metadata": {
  "colab": {
   "provenance": []
  },
  "kernelspec": {
   "name": "python3",
   "display_name": "Python 3"
  },
  "language_info": {
   "name": "python"
  }
 },
 "cells": [
  {
   "cell_type": "markdown",
   "source": [
    "# I. OOP"
   ],
   "metadata": {
    "id": "5qV_sehzFCTp"
   }
  },
  {
   "cell_type": "markdown",
   "source": [
    "1. (6б). Створіть клас Animal, додайте три атрибути, один з яких має значення за замовчуванням та два методи на свій розсуд."
   ],
   "metadata": {
    "id": "tx_U_hOALyfg"
   }
  },
  {
   "cell_type": "code",
   "source": [
    "class Animal:\n",
    "    def __init__(self, name, species='Mammal'):\n",
    "        self.name = name\n",
    "        self.species = species\n",
    "\n",
    "    def sound(self):\n",
    "        return \"Some generic sound\"\n",
    "\n",
    "    def move(self):\n",
    "        return \"Some generic movement\""
   ],
   "metadata": {
    "id": "-Vf895KaL88N"
   },
   "execution_count": 1,
   "outputs": []
  },
  {
   "cell_type": "markdown",
   "source": [
    "2. (2б). Створіть два обʼєкти цього класу, де один з обʼєктів створюється із дефолтним значенням атрибуту. На одному обʼєкті отримайте значення його атрибуту, а на іншому викличте один з його методів."
   ],
   "metadata": {
    "id": "X_UlOMB0L93w"
   }
  },
  {
   "cell_type": "code",
   "source": [
    "animal1 = Animal(\"Dog\")\n",
    "animal2 = Animal(\"Cat\")\n",
    "\n",
    "print(animal1.species)\n",
    "print(animal2.sound())"
   ],
   "metadata": {
    "id": "7gBu0ESOMCpG",
    "colab": {
     "base_uri": "https://localhost:8080/"
    },
    "outputId": "c2d45a88-a133-4110-feba-89a62c32ab2c"
   },
   "execution_count": 2,
   "outputs": [
    {
     "output_type": "stream",
     "name": "stdout",
     "text": [
      "Mammal\n",
      "Some generic sound\n"
     ]
    }
   ]
  },
  {
   "cell_type": "markdown",
   "source": [
    "3. (5б). Створіть клас, де атрибути мають різні рівні доступу. Спробуйте отримати їхні значення та опишіть результати."
   ],
   "metadata": {
    "id": "HoqSCZt1MHn5"
   }
  },
  {
   "cell_type": "code",
   "source": [
    "class MyClass:\n",
    "    def __init__(self):\n",
    "        self.public_attr = \"Public attribute\"\n",
    "        self._protected_attr = \"Protected attribute\"\n",
    "        self.__private_attr = \"Private attribute\"\n",
    "\n",
    "obj = MyClass()\n",
    "print(obj.public_attr)\n",
    "print(obj._protected_attr)\n",
    "\n",
    "# Спроба прямого доступу до private-атрибуту призведе до AttributeError\n",
    "# print(obj.__private_attr) # Це призведе до помилки"
   ],
   "metadata": {
    "id": "r9b3vJxBMSPV",
    "colab": {
     "base_uri": "https://localhost:8080/"
    },
    "outputId": "6307759e-fcb4-4680-c02b-bbd4150c8a6f"
   },
   "execution_count": 4,
   "outputs": [
    {
     "output_type": "stream",
     "name": "stdout",
     "text": [
      "Public attribute\n",
      "Protected attribute\n"
     ]
    }
   ]
  },
  {
   "cell_type": "markdown",
   "source": [
    "4. (7б). Як ви розумієте термін self? Для чого використовується метод __init __?"
   ],
   "metadata": {
    "id": "5op2m2vgMSkZ"
   }
  },
  {
   "cell_type": "markdown",
   "source": [
    "Термін `self` відноситься до екземпляру класу. Він дозволяє екземпляру посилатися на себе всередині класу.\n",
    "Також `self` є першим параметром кожного методу класу. При чому при виклику методу Python автоматично передає екземпляр як перший аргумент.\n",
    "\n",
    "Метод `__init__` є спеціальним методом у класах Python. Він називається методом-конструктором і автоматично викликається при створенні нового екземпляру класу, зазвичай він ініціалізує атрибути об'єкта."
   ],
   "metadata": {
    "id": "DyiPqNRvMasx"
   }
  },
  {
   "cell_type": "markdown",
   "source": [
    "5. (9б). Створіть клас Фігура без атрибутів, з методом get_area для отримання площі фігури, що повертає 0 та __add __, який приймає self та other в якості аргументів, а повертає суму площин фігур self та other."
   ],
   "metadata": {
    "id": "-6X8EGfjMd2y"
   }
  },
  {
   "cell_type": "code",
   "source": [
    "class Figure:\n",
    "    def get_area(self):\n",
    "        return 0\n",
    "\n",
    "    def __add__(self, other):\n",
    "        return self.get_area() + other.get_area()\n"
   ],
   "metadata": {
    "id": "4rvO_wYUMaEr"
   },
   "execution_count": 5,
   "outputs": []
  },
  {
   "cell_type": "markdown",
   "source": [
    "6. (11б). Створіть 2 дочірніх класи від Фігури: Трикутник та Коло, які мають атрибути, необхідні для розрахунку площин. Визначте метод get_area в кожному з них так, щоби вони розраховували площу в залежності від формули для кожного типу фігури. Створіть обʼєкт класу Трикутник та обʼєкт класу Коло. Виконайте операцію суми за допомогою оператора + між ними."
   ],
   "metadata": {
    "id": "SFcKnnv5Mo_z"
   }
  },
  {
   "cell_type": "code",
   "source": [
    "class Triangle(Figure):\n",
    "    def __init__(self, base, height):\n",
    "        self.base = base\n",
    "        self.height = height\n",
    "\n",
    "    def get_area(self):\n",
    "        return 0.5 * self.base * self.height\n",
    "\n",
    "class Circle(Figure):\n",
    "    def __init__(self, radius):\n",
    "        self.radius = radius\n",
    "\n",
    "    def get_area(self):\n",
    "        return 3.14 * self.radius ** 2\n",
    "\n",
    "triangle = Triangle(5, 10)\n",
    "circle = Circle(7)\n",
    "\n",
    "print(triangle.get_area())\n",
    "print(circle.get_area())\n",
    "print(triangle + circle)"
   ],
   "metadata": {
    "id": "H3GVNr69Muf3",
    "colab": {
     "base_uri": "https://localhost:8080/"
    },
    "outputId": "0041cd61-0b83-4b2c-f057-ae5190af160f"
   },
   "execution_count": 6,
   "outputs": [
    {
     "output_type": "stream",
     "name": "stdout",
     "text": [
      "25.0\n",
      "153.86\n",
      "178.86\n"
     ]
    }
   ]
  },
  {
   "cell_type": "markdown",
   "source": [
    "7. (3б). Продемонструйте різницю між isinstance та issubclass."
   ],
   "metadata": {
    "id": "HCvR206YMvLK"
   }
  },
  {
   "cell_type": "code",
   "source": [
    "# isinstance() використовується для перевірки того, чи є об'єкт екземпляром певного класу або його підкласу.\n",
    "# issubclass() використовується для перевірки того, чи є клас підкласом іншого класу.\n",
    "\n",
    "class Vehicle:\n",
    "    pass\n",
    "\n",
    "class Car(Vehicle):\n",
    "    pass\n",
    "\n",
    "my_car = Car()\n",
    "\n",
    "\n",
    "print(isinstance(my_car, Car))      # True, оскільки my_car є екземпляром класу Car\n",
    "print(isinstance(my_car, Vehicle))  # True, оскільки my_car є екземпляром класу Vehicle (батьківського класу для Car)\n",
    "\n",
    "print(issubclass(Car, Vehicle))     # True, оскільки Car є підкласом класу Vehicle\n",
    "print(issubclass(Vehicle, Car))     # False, оскільки Vehicle не є підкласом класу Car"
   ],
   "metadata": {
    "id": "L_V1bBvDM0GN",
    "colab": {
     "base_uri": "https://localhost:8080/"
    },
    "outputId": "419dd2ae-06da-47d0-f2f0-e856f9d145ae"
   },
   "execution_count": 7,
   "outputs": [
    {
     "output_type": "stream",
     "name": "stdout",
     "text": [
      "True\n",
      "True\n",
      "True\n",
      "False\n"
     ]
    }
   ]
  },
  {
   "cell_type": "markdown",
   "source": [
    "8. (13б). Створіть клас BankAccount з приватними атрибутами balance та account_number. Реалізуйте методи поповнення та зняття коштів, забезпечивши належну інкапсуляцію. Підказка: використовуйте декоратори property та setter."
   ],
   "metadata": {
    "id": "jjsaBZ-iM0Qq"
   }
  },
  {
   "cell_type": "code",
   "source": [
    "class BankAccount:\n",
    "    def __init__(self, initial_balance, account_number):\n",
    "        self.__balance = initial_balance\n",
    "        self.__account_number = account_number\n",
    "\n",
    "    @property\n",
    "    def balance(self):\n",
    "        return self.__balance\n",
    "\n",
    "    @property\n",
    "    def account_number(self):\n",
    "        return self.__account_number\n",
    "\n",
    "    @balance.setter\n",
    "    def balance(self, amount):\n",
    "        if amount < 0:\n",
    "            print(\"Amount cannot be negative.\")\n",
    "        else:\n",
    "            self.__balance = amount\n",
    "\n",
    "    def deposit(self, amount):\n",
    "        if amount < 0:\n",
    "            print(\"Amount cannot be negative.\")\n",
    "        else:\n",
    "            self.__balance += amount\n",
    "\n",
    "    def withdraw(self, amount):\n",
    "        if amount > self.__balance:\n",
    "            print(\"Insufficient funds.\")\n",
    "        elif amount < 0:\n",
    "            print(\"Amount cannot be negative.\")\n",
    "        else:\n",
    "            self.__balance -= amount\n",
    "\n",
    "\n",
    "\n",
    "account = BankAccount(1000, \"1234567890\")\n",
    "\n",
    "print(\"Initial Balance:\", account.balance)\n",
    "print(\"Account Number:\", account.account_number)\n",
    "\n",
    "account.deposit(500)\n",
    "print(\"After deposit, Balance:\", account.balance)\n",
    "\n",
    "account.withdraw(300)\n",
    "print(\"After withdrawal, Balance:\", account.balance)\n",
    "\n",
    "account.balance = 2000\n",
    "print(\"New Balance:\", account.balance)\n",
    "\n",
    "account.withdraw(5000) # More than balance, err\n",
    "\n",
    "account.balance = -1000 # Negative, err"
   ],
   "metadata": {
    "id": "xCvZ7lh8M7YA",
    "colab": {
     "base_uri": "https://localhost:8080/"
    },
    "outputId": "e0e1b6ec-6e67-43e7-a879-387638620461"
   },
   "execution_count": 8,
   "outputs": [
    {
     "output_type": "stream",
     "name": "stdout",
     "text": [
      "Initial Balance: 1000\n",
      "Account Number: 1234567890\n",
      "After deposit, Balance: 1500\n",
      "After withdrawal, Balance: 1200\n",
      "New Balance: 2000\n",
      "Insufficient funds.\n",
      "Amount cannot be negative.\n"
     ]
    }
   ]
  },
  {
   "cell_type": "markdown",
   "source": [
    "9. (11б). Створіть клас Library, який містить список об'єктів типу Book. Реалізуйте методи для додавання книги, видалення книги та відображення списку книг."
   ],
   "metadata": {
    "id": "tIzL2SJTM8ft"
   }
  },
  {
   "cell_type": "code",
   "source": [
    "class Book:\n",
    "    def __init__(self, title, author):\n",
    "        self.title = title\n",
    "        self.author = author\n",
    "\n",
    "class Library:\n",
    "    def __init__(self):\n",
    "        self.books = []\n",
    "\n",
    "    def add_book(self, book):\n",
    "        self.books.append(book)\n",
    "\n",
    "    def remove_book(self, book):\n",
    "        if book in self.books:\n",
    "            self.books.remove(book)\n",
    "        else:\n",
    "            print(\"Book not found in the library.\")\n",
    "\n",
    "    def display_books(self):\n",
    "        for book in self.books:\n",
    "            print(f\"Title: {book.title}, Author: {book.author}\")\n",
    "\n",
    "\n",
    "\n",
    "book1 = Book(\"Harry Potter\", \"J.K. Rowling\")\n",
    "book2 = Book(\"To Kill a Mockingbird\", \"Harper Lee\")\n",
    "book3 = Book(\"1984\", \"George Orwell\")\n",
    "book4 = Book(\"The Lord of the Rings\", \"J. R. R. Tolkien\")\n",
    "\n",
    "library = Library()\n",
    "library.add_book(book1)\n",
    "library.add_book(book2)\n",
    "library.add_book(book3)\n",
    "\n",
    "print(\"Books in the Library:\")\n",
    "library.display_books()\n",
    "\n",
    "print()\n",
    "library.remove_book(book2)\n",
    "library.remove_book(book4) # Not in library\n",
    "\n",
    "print(\"\\nBooks in the Library after removing one book:\")\n",
    "library.display_books()"
   ],
   "metadata": {
    "id": "HWxfJKLtNAUZ",
    "colab": {
     "base_uri": "https://localhost:8080/"
    },
    "outputId": "817e3b50-4017-4128-87a2-4eb0b658d031"
   },
   "execution_count": 12,
   "outputs": [
    {
     "output_type": "stream",
     "name": "stdout",
     "text": [
      "Books in the Library:\n",
      "Title: Harry Potter, Author: J.K. Rowling\n",
      "Title: To Kill a Mockingbird, Author: Harper Lee\n",
      "Title: 1984, Author: George Orwell\n",
      "\n",
      "Book not found in the library.\n",
      "\n",
      "Books in the Library after removing one book:\n",
      "Title: Harry Potter, Author: J.K. Rowling\n",
      "Title: 1984, Author: George Orwell\n"
     ]
    }
   ]
  },
  {
   "cell_type": "markdown",
   "source": [
    "10. (13б). Створіть клас Person з атрибутами name та age. Створіть ще один клас Employee з такими атрибутами, як department та salary. Створіть клас Manager, який успадковує обидва класи Person та Employee. Продемонструйте використання множинної спадковості, створивши обʼєкт класу Manager та отримавши mro для цього класу."
   ],
   "metadata": {
    "id": "lmV8pAwwNIqu"
   }
  },
  {
   "cell_type": "code",
   "source": [
    "class Person:\n",
    "    def __init__(self, name, age):\n",
    "        self.name = name\n",
    "        self.age = age\n",
    "\n",
    "class Employee:\n",
    "    def __init__(self, department, salary):\n",
    "        self.department = department\n",
    "        self.salary = salary\n",
    "\n",
    "class Manager(Person, Employee):\n",
    "    def __init__(self, name, age, department, salary):\n",
    "        Person.__init__(self, name, age)\n",
    "        Employee.__init__(self, department, salary)\n",
    "\n",
    "manager = Manager(\"John\", 40, \"HR\", 50000)\n",
    "print(manager.name)\n",
    "print(manager.age)\n",
    "print(manager.department)\n",
    "print(manager.salary)\n",
    "\n",
    "print(Manager.mro())"
   ],
   "metadata": {
    "id": "R49grKlWNPeN",
    "colab": {
     "base_uri": "https://localhost:8080/"
    },
    "outputId": "ed02571d-08f9-4197-c23a-85dd27926721"
   },
   "execution_count": 13,
   "outputs": [
    {
     "output_type": "stream",
     "name": "stdout",
     "text": [
      "John\n",
      "40\n",
      "HR\n",
      "50000\n",
      "[<class '__main__.Manager'>, <class '__main__.Person'>, <class '__main__.Employee'>, <class 'object'>]\n"
     ]
    }
   ]
  },
  {
   "cell_type": "markdown",
   "source": [
    "# II. Iterator"
   ],
   "metadata": {
    "id": "dIJyUiNBFG8G"
   }
  },
  {
   "cell_type": "markdown",
   "source": [
    "11. (4б). Визначте рядок(str) з 4ма різними за значенням символами. Створіть ітератор на основі цього рядка. Викличте 5 разів функцію next на ітераторі, 4ри перших з них огорніть у ф-цію print()."
   ],
   "metadata": {
    "id": "13vsm0NyKIzL"
   }
  },
  {
   "cell_type": "code",
   "source": [
    "my_string = \"abcd\"\n",
    "\n",
    "my_iterator = iter(my_string)\n",
    "\n",
    "for _ in range(5):\n",
    "    try:\n",
    "        char = next(my_iterator)\n",
    "        if char:\n",
    "            print(char)\n",
    "    except StopIteration:\n",
    "        print(\"End of iterator\")"
   ],
   "metadata": {
    "id": "81ntabAkKuz-",
    "colab": {
     "base_uri": "https://localhost:8080/"
    },
    "outputId": "3e8e02af-3ad2-4982-bc5d-37339b261e19"
   },
   "execution_count": 14,
   "outputs": [
    {
     "output_type": "stream",
     "name": "stdout",
     "text": [
      "a\n",
      "b\n",
      "c\n",
      "d\n",
      "End of iterator\n"
     ]
    }
   ]
  },
  {
   "cell_type": "markdown",
   "source": [
    "А що якщо викликати цю ж функцію на рядку?"
   ],
   "metadata": {
    "id": "aekWHGXOLRsO"
   }
  },
  {
   "cell_type": "code",
   "source": [
    "# Викликати функцію next() на рядку не можна, бо рядок не є ітератором.\n",
    "# В такому випадку отримаємо TypeError.\n",
    "# next(my_string)"
   ],
   "metadata": {
    "id": "mxATGsErLV1i",
    "colab": {
     "base_uri": "https://localhost:8080/",
     "height": 176
    },
    "outputId": "875a8298-caf9-49a8-f1b8-442995d4e285"
   },
   "execution_count": 15,
   "outputs": [
    {
     "output_type": "error",
     "ename": "TypeError",
     "evalue": "'str' object is not an iterator",
     "traceback": [
      "\u001B[0;31m---------------------------------------------------------------------------\u001B[0m",
      "\u001B[0;31mTypeError\u001B[0m                                 Traceback (most recent call last)",
      "\u001B[0;32m<ipython-input-15-39fa28dc15d9>\u001B[0m in \u001B[0;36m<cell line: 3>\u001B[0;34m()\u001B[0m\n\u001B[1;32m      1\u001B[0m \u001B[0;31m# Викликати функцію next() на рядку не можна, бо рядок не є ітератором.\u001B[0m\u001B[0;34m\u001B[0m\u001B[0;34m\u001B[0m\u001B[0m\n\u001B[1;32m      2\u001B[0m \u001B[0;31m# В такому випадку отримаємо TypeError.\u001B[0m\u001B[0;34m\u001B[0m\u001B[0;34m\u001B[0m\u001B[0m\n\u001B[0;32m----> 3\u001B[0;31m \u001B[0mnext\u001B[0m\u001B[0;34m(\u001B[0m\u001B[0mmy_string\u001B[0m\u001B[0;34m)\u001B[0m\u001B[0;34m\u001B[0m\u001B[0;34m\u001B[0m\u001B[0m\n\u001B[0m",
      "\u001B[0;31mTypeError\u001B[0m: 'str' object is not an iterator"
     ]
    }
   ]
  },
  {
   "cell_type": "markdown",
   "source": [],
   "metadata": {
    "id": "Tcau53JxFLwF"
   }
  },
  {
   "cell_type": "markdown",
   "source": [
    " 12. (5б). Опишіть своїми словами в одному реченні, як ви розумієте різницю між ітерабельними обʼєктами та ітераторами (можна на прикладі)."
   ],
   "metadata": {
    "id": "XwtMEopwJ4pH"
   }
  },
  {
   "cell_type": "markdown",
   "source": [
    "Ітерабельні об'єкти - це об'єкти, які можна перебрати за допомогою ітерації, наприклад, списки, кортежі, рядки.\n",
    "\n",
    "Ітератори - це об'єкти, які можуть перебирати об'єкти та повертати їх елементи, тобто мають метод __iter__() для повернення себе та метод __next__() для отримання наступного елемента послідовності. Наприклад, список є ітерабельним об'єктом, а ітератором може бути отриманий за допомогою функції iter().\n"
   ],
   "metadata": {
    "id": "-sHrODc3KFn8"
   }
  },
  {
   "cell_type": "markdown",
   "source": [
    "13. (11б). Створіть клас, що має визначений Iterator Protocol та при кожному виклику next повертає літери англійської абетки, поки вони не вичерпаються."
   ],
   "metadata": {
    "id": "E9qJWmNbK8Gl"
   }
  },
  {
   "cell_type": "code",
   "source": [
    "class AlphabetIterator:\n",
    "    def __init__(self):\n",
    "        self.index = 0\n",
    "        self.alphabet = 'abcdefghijklmnopqrstuvwxyz'\n",
    "\n",
    "    def __iter__(self):\n",
    "        return self\n",
    "\n",
    "    def __next__(self):\n",
    "        if self.index < len(self.alphabet):\n",
    "            letter = self.alphabet[self.index]\n",
    "            self.index += 1\n",
    "            return letter\n",
    "        else:\n",
    "            raise StopIteration\n",
    "\n",
    "alphabet_iterator = AlphabetIterator()\n",
    "for _ in range(30):\n",
    "    try:\n",
    "        print(next(alphabet_iterator))\n",
    "    except StopIteration:\n",
    "        print(\"End of alphabet\")\n",
    "        break"
   ],
   "metadata": {
    "id": "cqx-g_RsLo6I",
    "colab": {
     "base_uri": "https://localhost:8080/"
    },
    "outputId": "938671a4-25fe-461c-a70c-805f6f3149e1"
   },
   "execution_count": 16,
   "outputs": [
    {
     "output_type": "stream",
     "name": "stdout",
     "text": [
      "a\n",
      "b\n",
      "c\n",
      "d\n",
      "e\n",
      "f\n",
      "g\n",
      "h\n",
      "i\n",
      "j\n",
      "k\n",
      "l\n",
      "m\n",
      "n\n",
      "o\n",
      "p\n",
      "q\n",
      "r\n",
      "s\n",
      "t\n",
      "u\n",
      "v\n",
      "w\n",
      "x\n",
      "y\n",
      "z\n",
      "End of alphabet\n"
     ]
    }
   ]
  },
  {
   "cell_type": "markdown",
   "source": [
    "# Вітаю! Ви велика(ий) молодець, що впоралась(вся). Похваліть себе та побалуйте чимось приємним. Я Вами пишаюся."
   ],
   "metadata": {
    "id": "Z3E3S_s1Fv7-"
   }
  }
 ]
}
