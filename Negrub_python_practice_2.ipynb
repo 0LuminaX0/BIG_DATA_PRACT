{
  "nbformat": 4,
  "nbformat_minor": 0,
  "metadata": {
    "colab": {
      "provenance": [],
      "toc_visible": true
    },
    "kernelspec": {
      "name": "python3",
      "display_name": "Python 3"
    },
    "language_info": {
      "name": "python"
    }
  },
  "cells": [
    {
      "cell_type": "markdown",
      "source": [
        "# I. Змінні та памʼять."
      ],
      "metadata": {
        "id": "p9wwt0LZzNvn"
      }
    },
    {
      "cell_type": "markdown",
      "source": [
        "1. Створити змінні, що посилаються на два цілих числа, що однакові за значенням, де значення належить проміжку від -5 до 256. Перевірте, чи будуть ці змінні рівні тільки за значенням або ж ще будуть посилатися на один і той самий обʼєкт в памʼяті? Наведіть код та дайте текстову відповідь нижче."
      ],
      "metadata": {
        "id": "HTJrrm95xSV9"
      }
    },
    {
      "cell_type": "code",
      "execution_count": 2,
      "metadata": {
        "id": "TATni2vzayjG",
        "colab": {
          "base_uri": "https://localhost:8080/"
        },
        "outputId": "c725ae7c-522c-432a-82df-53edd9b2ec44"
      },
      "outputs": [
        {
          "output_type": "stream",
          "name": "stdout",
          "text": [
            "15\n",
            "15\n",
            "135904537002672\n",
            "135904537002672\n"
          ]
        }
      ],
      "source": [
        "a = 15\n",
        "b = 15\n",
        "\n",
        "print(a)\n",
        "print(b)\n",
        "\n",
        "print(id(a))\n",
        "print(id(b))"
      ]
    },
    {
      "cell_type": "markdown",
      "source": [
        "Змінні a і b мають однакові значення та посилаються на один і той самий обʼєкт в памʼяті для оптимізації роботи програми."
      ],
      "metadata": {
        "id": "zfRG_o3WbRdg"
      }
    },
    {
      "cell_type": "markdown",
      "source": [
        "2. За допомогою якої функції можна перевірити належність змінної до вказаного типу даних (напр. чи змінна True посилається на значення булевого та цілочисленого типу)?"
      ],
      "metadata": {
        "id": "ISORzt6M3vAt"
      }
    },
    {
      "cell_type": "code",
      "source": [
        "boolean = True\n",
        "\n",
        "print(type(boolean))\n",
        "\n",
        "print(isinstance(boolean, bool))\n",
        "print(isinstance(boolean, int))"
      ],
      "metadata": {
        "id": "9vL9CFaMbfyo",
        "colab": {
          "base_uri": "https://localhost:8080/"
        },
        "outputId": "0930651c-9fda-4d85-d7ad-a3250de7f556"
      },
      "execution_count": 5,
      "outputs": [
        {
          "output_type": "stream",
          "name": "stdout",
          "text": [
            "<class 'bool'>\n",
            "True\n",
            "True\n"
          ]
        }
      ]
    },
    {
      "cell_type": "markdown",
      "source": [
        "# II. Цілі числа та числа з рухомою комою"
      ],
      "metadata": {
        "id": "tRxugKAxwYLw"
      }
    },
    {
      "cell_type": "markdown",
      "source": [
        "3. Створити дві змінні, що посилаються на будь-які ціле число та число з рухомою комою та продемонструвати такі арифметичні операції: додавання, віднімання, ділення, множення, ділення без залишку, ділення по модулю, приведення до ступеню. Всі результати операцій вивести на екран."
      ],
      "metadata": {
        "id": "NLHkgd5Gybc8"
      }
    },
    {
      "cell_type": "code",
      "source": [
        "integer_var = 10\n",
        "float_var = 3.14\n",
        "\n",
        "addition = integer_var + float_var\n",
        "subtraction = integer_var - float_var\n",
        "division = integer_var / float_var\n",
        "multiplication = integer_var * float_var\n",
        "floor_division = integer_var // float_var\n",
        "modulo = integer_var % float_var\n",
        "exponentiation = integer_var ** 2\n",
        "\n",
        "print(addition)\n",
        "print(subtraction)\n",
        "print(division)\n",
        "print(multiplication)\n",
        "print(floor_division)\n",
        "print(modulo)\n",
        "print(exponentiation)\n"
      ],
      "metadata": {
        "id": "nb8u_3pjb2cA",
        "colab": {
          "base_uri": "https://localhost:8080/"
        },
        "outputId": "81155c43-e9a4-4f8e-c887-2f0277c3f105"
      },
      "execution_count": 12,
      "outputs": [
        {
          "output_type": "stream",
          "name": "stdout",
          "text": [
            "13.14\n",
            "6.859999999999999\n",
            "3.184713375796178\n",
            "31.400000000000002\n",
            "3.0\n",
            "0.5799999999999996\n",
            "100\n"
          ]
        }
      ]
    },
    {
      "cell_type": "markdown",
      "source": [
        "4. Використовуючи змінні з вправи 3, продемонструйте механізм явного перетворення типів, де числа з рухомою комою перетворюються на цілі числа. Також визначте змінну, що посилається на значення булевого типу і спробуйте явно привести її до цілого числа."
      ],
      "metadata": {
        "id": "1kBClKgPzZnC"
      }
    },
    {
      "cell_type": "code",
      "source": [
        "int_from_float = int(float_var)\n",
        "bool_var = True\n",
        "int_from_bool = int(bool_var)\n",
        "\n",
        "print(int_from_float)\n",
        "print(bool_var)\n",
        "print(int_from_bool)"
      ],
      "metadata": {
        "id": "TbqJbkeUcKsD",
        "colab": {
          "base_uri": "https://localhost:8080/"
        },
        "outputId": "57ac8f2b-9cfe-4d26-b7a1-362822387694"
      },
      "execution_count": 9,
      "outputs": [
        {
          "output_type": "stream",
          "name": "stdout",
          "text": [
            "3\n",
            "True\n",
            "1\n"
          ]
        }
      ]
    },
    {
      "cell_type": "markdown",
      "source": [
        "# IІІ. Рядки (String)."
      ],
      "metadata": {
        "id": "EVJ7AflwxrZi"
      }
    },
    {
      "cell_type": "markdown",
      "source": [
        "5. Створити пустий рядок двома різними способами."
      ],
      "metadata": {
        "id": "_s5ECzz9zE61"
      }
    },
    {
      "cell_type": "code",
      "source": [
        "empty_string1 = \"\"\n",
        "empty_string2 = str()\n",
        "\n",
        "print(empty_string1)\n",
        "print(empty_string2)"
      ],
      "metadata": {
        "id": "fkZJHu9Scvc-",
        "colab": {
          "base_uri": "https://localhost:8080/"
        },
        "outputId": "3a7fd0b1-9a5b-4630-9ba0-094a596fd4ec"
      },
      "execution_count": 14,
      "outputs": [
        {
          "output_type": "stream",
          "name": "stdout",
          "text": [
            "\n",
            "\n"
          ]
        }
      ]
    },
    {
      "cell_type": "markdown",
      "source": [
        "6. Створити рядок з апострофом. Зробити його сирим. Вивести обидва рядка на екран."
      ],
      "metadata": {
        "id": "4Bdn9J3MzLf_"
      }
    },
    {
      "cell_type": "code",
      "source": [
        "apost_string = r\"Raw string with 'apostrophe'\"\n",
        "print(apost_string)"
      ],
      "metadata": {
        "id": "ivji_hsmc0GH",
        "colab": {
          "base_uri": "https://localhost:8080/"
        },
        "outputId": "28d0351b-ee5c-4616-e068-558ed7f54e2a"
      },
      "execution_count": 17,
      "outputs": [
        {
          "output_type": "stream",
          "name": "stdout",
          "text": [
            "Raw string with 'apostrophe'\n"
          ]
        }
      ]
    },
    {
      "cell_type": "markdown",
      "source": [
        "7. Створити змінну, що буде посилатися на Ваше прізвище латинкою. Створити форматований рядок, який буде мати вигляд \"My surname is ______\", де на місці нижніх підкреслень буде Ваше прізвище зі змінної."
      ],
      "metadata": {
        "id": "bg_d8wM4z8dS"
      }
    },
    {
      "cell_type": "code",
      "source": [
        "surname = \"Negrub\"\n",
        "formatted_string1 = f\"My surname is {surname}\"\n",
        "formatted_string2 = \"My surname is {0}\".format(surname)\n",
        "\n",
        "print(formatted_string1)\n",
        "print(formatted_string2)"
      ],
      "metadata": {
        "id": "kuxFgpWndACq",
        "colab": {
          "base_uri": "https://localhost:8080/"
        },
        "outputId": "321cdd4f-0055-4494-c0cb-5b20c6ec8d63"
      },
      "execution_count": 21,
      "outputs": [
        {
          "output_type": "stream",
          "name": "stdout",
          "text": [
            "My surname is Negrub\n",
            "My surname is Negrub\n"
          ]
        }
      ]
    },
    {
      "cell_type": "markdown",
      "source": [
        "8. Маючи рядок \"My dog is crazy.\" перетворити його на список [\"my\", \"dog\", \"is\", \"crazy\"]"
      ],
      "metadata": {
        "id": "1Nc6RqvQ0hxU"
      }
    },
    {
      "cell_type": "code",
      "source": [
        "original_string = \"My dog is crazy.\"\n",
        "list_from_string = original_string.split()\n",
        "print(list_from_string)"
      ],
      "metadata": {
        "id": "w1Ya4RqedUhw",
        "colab": {
          "base_uri": "https://localhost:8080/"
        },
        "outputId": "71e9b2bb-d695-4513-82d8-1915514b8c82"
      },
      "execution_count": 22,
      "outputs": [
        {
          "output_type": "stream",
          "name": "stdout",
          "text": [
            "['My', 'dog', 'is', 'crazy.']\n"
          ]
        }
      ]
    },
    {
      "cell_type": "markdown",
      "source": [
        "# IV. Робота зі списками."
      ],
      "metadata": {
        "id": "GYVqN9uP1D4n"
      }
    },
    {
      "cell_type": "markdown",
      "source": [
        "9. Створити список двома різними за синтаксисом способами. За допомогою вбудованої функції обчисліть довжину одного з них."
      ],
      "metadata": {
        "id": "7-DeDunw2sO-"
      }
    },
    {
      "cell_type": "code",
      "source": [
        "list1 = [0, 1, 2, 3, 4]\n",
        "list2 = list(range(5))\n",
        "\n",
        "print(list1)\n",
        "print(list2)\n",
        "print(len(list1))\n",
        "print(len(list2))"
      ],
      "metadata": {
        "id": "zxg06Uuxdyoh",
        "colab": {
          "base_uri": "https://localhost:8080/"
        },
        "outputId": "65e19a1f-cad8-4d3e-984e-0525376ed787"
      },
      "execution_count": 31,
      "outputs": [
        {
          "output_type": "stream",
          "name": "stdout",
          "text": [
            "[0, 1, 2, 3, 4]\n",
            "[0, 1, 2, 3, 4]\n",
            "5\n",
            "5\n"
          ]
        }
      ]
    },
    {
      "cell_type": "markdown",
      "source": [
        "10. Створіть два списка та за допомогою спеціального методу додайте другий з них в якості останнього елемента першого."
      ],
      "metadata": {
        "id": "8vmGUTjL22gI"
      }
    },
    {
      "cell_type": "code",
      "source": [
        "list1.append(list2)\n",
        "print(list1)"
      ],
      "metadata": {
        "id": "uHtjWYw7d7hm",
        "colab": {
          "base_uri": "https://localhost:8080/"
        },
        "outputId": "5cf07363-3a7f-4bdf-9e2c-d2413d1ea3cf"
      },
      "execution_count": 32,
      "outputs": [
        {
          "output_type": "stream",
          "name": "stdout",
          "text": [
            "[0, 1, 2, 3, 4, [0, 1, 2, 3, 4]]\n"
          ]
        }
      ]
    },
    {
      "cell_type": "markdown",
      "source": [
        "11. Створіть список, де елементами цього списку також є списки. Отримай перший елемент з останнього рядка та виведи значення на екран."
      ],
      "metadata": {
        "id": "JC3BkD-67_--"
      }
    },
    {
      "cell_type": "code",
      "source": [
        "list1 = [[0, 1], [2, 3], [4, 5]]\n",
        "print(list1[-1][0])"
      ],
      "metadata": {
        "id": "Kz2jZHsGeLlz",
        "colab": {
          "base_uri": "https://localhost:8080/"
        },
        "outputId": "09c19fcb-5dd2-4f55-97fc-deb7456b16be"
      },
      "execution_count": 36,
      "outputs": [
        {
          "output_type": "stream",
          "name": "stdout",
          "text": [
            "4\n"
          ]
        }
      ]
    },
    {
      "cell_type": "markdown",
      "source": [
        "12. Створіть список з десяти елементів різного типу. Отримайте всі елементи, окрім двох перших та двох останніх та збережіть їх в новій змінній."
      ],
      "metadata": {
        "id": "JA47PKTv8zFK"
      }
    },
    {
      "cell_type": "code",
      "source": [
        "mixed_type_list = [1, \"two\", 3.0, (4, 5), {\"key\": \"value\"}, True, None, 8, [9, 10], \"eleven\"]\n",
        "new_list = mixed_type_list[2:-2]\n",
        "print(new_list)"
      ],
      "metadata": {
        "id": "_rHdUR-ueP4-",
        "colab": {
          "base_uri": "https://localhost:8080/"
        },
        "outputId": "885e0801-0208-4faa-89e1-a6da452be113"
      },
      "execution_count": 37,
      "outputs": [
        {
          "output_type": "stream",
          "name": "stdout",
          "text": [
            "[3.0, (4, 5), {'key': 'value'}, True, None, 8]\n"
          ]
        }
      ]
    },
    {
      "cell_type": "markdown",
      "source": [
        "# V. Робота з кортежами."
      ],
      "metadata": {
        "id": "pCjR1dJb1Qbi"
      }
    },
    {
      "cell_type": "markdown",
      "source": [
        "14. Створити кортеж з один елементом."
      ],
      "metadata": {
        "id": "fAZCxAX06R_k"
      }
    },
    {
      "cell_type": "code",
      "source": [
        "tuple_with_one_element = (42,)\n",
        "print(tuple_with_one_element)"
      ],
      "metadata": {
        "id": "H7d82WkQev3e",
        "colab": {
          "base_uri": "https://localhost:8080/"
        },
        "outputId": "2a028737-1fba-473c-bb7f-46319c68b13e"
      },
      "execution_count": 38,
      "outputs": [
        {
          "output_type": "stream",
          "name": "stdout",
          "text": [
            "(42,)\n"
          ]
        }
      ]
    },
    {
      "cell_type": "markdown",
      "source": [
        "15. Порівняйте список та кортеж. Назвіть схожості та відмінності, випадки використання."
      ],
      "metadata": {
        "id": "8LCtYcmI6w1M"
      }
    },
    {
      "cell_type": "markdown",
      "source": [
        "Схожості: Обидва можуть зберігати колекцію елементів.\n",
        "\n",
        "Відмінності: Список є змінним, але повільнішим та займає більше пам'яті. кортеж – навпаки, незмінним, але меншим та швидшим.\n",
        "\n",
        "Кортежі використовуються там, де не потрібно змінювати структуру даних. В інших випадках зазвичай обирають списки, адже з ними легше працювати.\n"
      ],
      "metadata": {
        "id": "fUsN1Hnue0C6"
      }
    },
    {
      "cell_type": "markdown",
      "source": [
        "16. Створіть кортеж з 11ти елементів чисел з рухомою комою та отримайте кожен парний за індексом елемент в зворотньому порядку. Наприклад, маючи (1.2, 2.3, 3.3, 4.3, 5.3, 6.3, 7.3, 8.3, 9.3, 0.3), отримати (0.3, 8.3, 6.3, 4.3, 2.3). Результат збережіть в нову змінну та виведіть на екран."
      ],
      "metadata": {
        "id": "m0xrwFijAmDD"
      }
    },
    {
      "cell_type": "code",
      "source": [
        "tuple_with_floats = (1.2, 2.3, 3.3, 4.3, 5.3, 6.3, 7.3, 8.3, 9.3, 0.3)\n",
        "result_tuple = tuple_with_floats[::-2]\n",
        "print(result_tuple)"
      ],
      "metadata": {
        "id": "p-5DAH6XfAGA",
        "colab": {
          "base_uri": "https://localhost:8080/"
        },
        "outputId": "4a9c02c7-d99b-48c9-9187-3e4ad9096738"
      },
      "execution_count": 39,
      "outputs": [
        {
          "output_type": "stream",
          "name": "stdout",
          "text": [
            "(0.3, 8.3, 6.3, 4.3, 2.3)\n"
          ]
        }
      ]
    },
    {
      "cell_type": "markdown",
      "source": [
        "# VI. Множини (Set)."
      ],
      "metadata": {
        "id": "rW_I9dt3x6cW"
      }
    },
    {
      "cell_type": "markdown",
      "source": [
        "17. Створити множину без елементів. Після цого за допомогою методу додайте кілька різних елементів до множини. Чи множини є змінним типом даних?"
      ],
      "metadata": {
        "id": "zNjRLHLw1Bgg"
      }
    },
    {
      "cell_type": "code",
      "source": [
        "empty_set = set()\n",
        "empty_set.add(1)\n",
        "empty_set.add(2)\n",
        "empty_set.add(3)\n",
        "\n",
        "print(empty_set)"
      ],
      "metadata": {
        "id": "KOv7zc2Kfo4N",
        "colab": {
          "base_uri": "https://localhost:8080/"
        },
        "outputId": "8e00b43e-0a7f-45b4-b5b2-e05e0d315137"
      },
      "execution_count": 41,
      "outputs": [
        {
          "output_type": "stream",
          "name": "stdout",
          "text": [
            "{1, 2, 3}\n"
          ]
        }
      ]
    },
    {
      "cell_type": "markdown",
      "source": [
        "Так, множини є змінним типом даних в Python, оскільки змінний тип даних означає, що об'єкт може бути змінений після його створення."
      ],
      "metadata": {
        "id": "vxS6dVYiftZQ"
      }
    },
    {
      "cell_type": "markdown",
      "source": [
        "18. Створити множину, маючи список my_list = [1, 1, 2, 67, 67, 8, 9]. Пояснити, чому \"зникли\" деякі елементи."
      ],
      "metadata": {
        "id": "gHpT0Zw_1HEF"
      }
    },
    {
      "cell_type": "code",
      "source": [
        "my_list = [1, 1, 2, 67, 67, 8, 9]\n",
        "set_from_list = set(my_list)\n",
        "\n",
        "print(set_from_list)"
      ],
      "metadata": {
        "id": "qCN4uvJ_fxmu",
        "colab": {
          "base_uri": "https://localhost:8080/"
        },
        "outputId": "10c2ab49-05e4-45c4-9668-2451a47b9cdc"
      },
      "execution_count": 43,
      "outputs": [
        {
          "output_type": "stream",
          "name": "stdout",
          "text": [
            "{1, 2, 67, 8, 9}\n"
          ]
        }
      ]
    },
    {
      "cell_type": "markdown",
      "source": [
        "\"Зникають\" ті елементи, які були дублікатами, оскільки за визначенням множина цього не допускає"
      ],
      "metadata": {
        "id": "tFNc1e20fyny"
      }
    },
    {
      "cell_type": "markdown",
      "source": [
        "19. Створіть дві множини. Продемонстуйте над ними операції: обʼєднання, різниці, пересічі та симетричної різниці. Використовуйте методи, що не змінюють множини, а створюють нові."
      ],
      "metadata": {
        "id": "SRMkGizS1UwY"
      }
    },
    {
      "cell_type": "code",
      "source": [
        "set1 = {1, 2, 3}\n",
        "set2 = {3, 4, 5}\n",
        "\n",
        "union_set = set1.union(set2)\n",
        "difference_set1 = set1.difference(set2)\n",
        "difference_set2 = set2.difference(set1)\n",
        "intersection_set = set1.intersection(set2)\n",
        "symmetric_difference_set = set1.symmetric_difference(set2)\n",
        "\n",
        "print(union_set)\n",
        "print(difference_set1)\n",
        "print(difference_set2)\n",
        "print(intersection_set)\n",
        "print(symmetric_difference_set)"
      ],
      "metadata": {
        "id": "h0T-VuDnf3Ri",
        "colab": {
          "base_uri": "https://localhost:8080/"
        },
        "outputId": "8ce1ac8a-0138-41ef-bea1-fd680066eda1"
      },
      "execution_count": 45,
      "outputs": [
        {
          "output_type": "stream",
          "name": "stdout",
          "text": [
            "{1, 2, 3, 4, 5}\n",
            "{1, 2}\n",
            "{4, 5}\n",
            "{3}\n",
            "{1, 2, 4, 5}\n"
          ]
        }
      ]
    },
    {
      "cell_type": "markdown",
      "source": [
        "# VII. Словники (Dictionary)."
      ],
      "metadata": {
        "id": "kWc8gkzTx7Ea"
      }
    },
    {
      "cell_type": "markdown",
      "source": [
        "20. Створіть пустий словник. До нього додайте чотири пари елементів такі, щоб їхні ключі були різних типів. Чи може список бути ключем? Чому?"
      ],
      "metadata": {
        "id": "i5FLwj-B2ybQ"
      }
    },
    {
      "cell_type": "code",
      "source": [
        "my_dict = {}\n",
        "\n",
        "my_dict[\"name\"] = \"John\"\n",
        "my_dict[42] = \"Answer\"\n",
        "my_dict[(1, 2)] = \"Tuple\"\n",
        "my_dict[3.14] = \"Pi\"\n",
        "\n",
        "print(my_dict)"
      ],
      "metadata": {
        "id": "hxgv3BzrgLAV",
        "colab": {
          "base_uri": "https://localhost:8080/"
        },
        "outputId": "afc43931-0623-456a-e7f0-7bc10ec7ef20"
      },
      "execution_count": 46,
      "outputs": [
        {
          "output_type": "stream",
          "name": "stdout",
          "text": [
            "{'name': 'John', 42: 'Answer', (1, 2): 'Tuple', 3.14: 'Pi'}\n"
          ]
        }
      ]
    },
    {
      "cell_type": "markdown",
      "source": [
        "Ні, список не може бути ключем у словнику, оскільки ключі у словнику повинні бути незмінними типами даних."
      ],
      "metadata": {
        "id": "zwa7UVN-gR3m"
      }
    },
    {
      "cell_type": "markdown",
      "source": [
        "21. Створіть словник, де значенням в одній з пар теж буде словник, який теж має вкладений словник. Виведіть на екран значення, що міститься в словнику, що знаходиться на найнижчому рівні ієрархії вкладеності (найбільш внутрішній)."
      ],
      "metadata": {
        "id": "WM_pMlJsgoNf"
      }
    },
    {
      "cell_type": "code",
      "source": [
        "nested_dict = {'outer_key': {'inner_key': 'correct_value'}}\n",
        "inner_value = nested_dict['outer_key']['inner_key']\n",
        "\n",
        "print(inner_value)"
      ],
      "metadata": {
        "id": "60dlP7IHhAy4",
        "colab": {
          "base_uri": "https://localhost:8080/"
        },
        "outputId": "14a7a537-8a12-4d9e-8070-8a43f61ce745"
      },
      "execution_count": 48,
      "outputs": [
        {
          "output_type": "stream",
          "name": "stdout",
          "text": [
            "correct_value\n"
          ]
        }
      ]
    },
    {
      "cell_type": "markdown",
      "source": [
        "# Вітаю! Ви велика(ий) молодець, що впоралась(вся). Похваліть себе та побалуйте чимось приємним. Я Вами пишаюся."
      ],
      "metadata": {
        "id": "xOZP0hkx6cCr"
      }
    }
  ]
}